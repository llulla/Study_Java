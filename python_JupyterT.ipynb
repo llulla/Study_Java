{
 "cells": [
  {
   "cell_type": "code",
   "execution_count": 1,
   "id": "3f5ed8e9",
   "metadata": {},
   "outputs": [
    {
     "name": "stderr",
     "output_type": "stream",
     "text": [
      "'ls'은(는) 내부 또는 외부 명령, 실행할 수 있는 프로그램, 또는\n",
      "배치 파일이 아닙니다.\n"
     ]
    }
   ],
   "source": [
    "#https://www.youtube.com/watch?v=QoBPrU3gBrk&list=PLkfUwwo13dlV4qfiZdiI6Ak8HXfhFDwpB"
   ]
  },
  {
   "cell_type": "code",
   "execution_count": 5,
   "id": "0ef9cb03",
   "metadata": {},
   "outputs": [
    {
     "data": {
      "text/plain": [
       "56"
      ]
     },
     "execution_count": 5,
     "metadata": {},
     "output_type": "execute_result"
    }
   ],
   "source": [
    "1+55"
   ]
  },
  {
   "cell_type": "code",
   "execution_count": 4,
   "id": "78705cde",
   "metadata": {},
   "outputs": [
    {
     "name": "stdout",
     "output_type": "stream",
     "text": [
      " C 드라이브의 볼륨에는 이름이 없습니다.\n",
      " 볼륨 일련 번호: 2C02-9A48\n",
      "\n",
      " C:\\Users\\roqja\\study 디렉터리\n",
      "\n",
      "2022-07-19  오전 12:17    <DIR>          .\n",
      "2022-07-19  오전 12:17    <DIR>          ..\n",
      "2022-07-18  오후 11:46    <DIR>          .ipynb_checkpoints\n",
      "2022-07-19  오전 12:17             4,135 python_JupyterT.ipynb\n",
      "               1개 파일               4,135 바이트\n",
      "               3개 디렉터리  666,185,715,712 바이트 남음\n"
     ]
    }
   ],
   "source": [
    "!dir"
   ]
  },
  {
   "cell_type": "code",
   "execution_count": 1,
   "id": "ee39e3a5",
   "metadata": {},
   "outputs": [
    {
     "data": {
      "text/plain": [
       "'hello world'"
      ]
     },
     "execution_count": 1,
     "metadata": {},
     "output_type": "execute_result"
    }
   ],
   "source": [
    "'''hello world'''"
   ]
  },
  {
   "cell_type": "code",
   "execution_count": 3,
   "id": "47062ad0",
   "metadata": {},
   "outputs": [
    {
     "data": {
      "text/plain": [
       "9"
      ]
     },
     "execution_count": 3,
     "metadata": {},
     "output_type": "execute_result"
    }
   ],
   "source": [
    "a=3\n",
    "y=6\n",
    "a+y"
   ]
  },
  {
   "cell_type": "code",
   "execution_count": 6,
   "id": "fa0b0311",
   "metadata": {},
   "outputs": [
    {
     "name": "stdout",
     "output_type": "stream",
     "text": [
      "<class 'int'>\n"
     ]
    }
   ],
   "source": [
    "a= 10  #int\n",
    "b= 10.1 #float\n",
    "c= 'hello world' #str\n",
    "d=-1\n",
    "e='kim'\n",
    "f=0b1001\n",
    "g=0o1001\n",
    "j=0x1001\n",
    "f+j\n",
    "print(type(a))"
   ]
  },
  {
   "cell_type": "code",
   "execution_count": 7,
   "id": "83f06451",
   "metadata": {},
   "outputs": [
    {
     "name": "stdout",
     "output_type": "stream",
     "text": [
      "['__abs__', '__add__', '__and__', '__bool__', '__ceil__', '__class__', '__delattr__', '__dir__', '__divmod__', '__doc__', '__eq__', '__float__', '__floor__', '__floordiv__', '__format__', '__ge__', '__getattribute__', '__getnewargs__', '__gt__', '__hash__', '__index__', '__init__', '__init_subclass__', '__int__', '__invert__', '__le__', '__lshift__', '__lt__', '__mod__', '__mul__', '__ne__', '__neg__', '__new__', '__or__', '__pos__', '__pow__', '__radd__', '__rand__', '__rdivmod__', '__reduce__', '__reduce_ex__', '__repr__', '__rfloordiv__', '__rlshift__', '__rmod__', '__rmul__', '__ror__', '__round__', '__rpow__', '__rrshift__', '__rshift__', '__rsub__', '__rtruediv__', '__rxor__', '__setattr__', '__sizeof__', '__str__', '__sub__', '__subclasshook__', '__truediv__', '__trunc__', '__xor__', 'as_integer_ratio', 'bit_length', 'conjugate', 'denominator', 'from_bytes', 'imag', 'numerator', 'real', 'to_bytes']\n"
     ]
    }
   ],
   "source": [
    "#print(dir(a))"
   ]
  },
  {
   "cell_type": "code",
   "execution_count": 9,
   "id": "6a420ce4",
   "metadata": {},
   "outputs": [
    {
     "name": "stdout",
     "output_type": "stream",
     "text": [
      "<class 'str'>\n",
      "h\n",
      "hello \n",
      "hlow\n",
      "dlrow olle\n"
     ]
    }
   ],
   "source": [
    "print(type(c))\n",
    "print(c[0])\n",
    "print(c[0:6])\n",
    "print(c[0:7:2])\n",
    "print(c[10:0:-1])"
   ]
  },
  {
   "cell_type": "code",
   "execution_count": 10,
   "id": "ea64cac9",
   "metadata": {},
   "outputs": [
    {
     "name": "stdout",
     "output_type": "stream",
     "text": [
      "HELLO WORLD\n"
     ]
    }
   ],
   "source": [
    "print(c.upper())"
   ]
  },
  {
   "cell_type": "code",
   "execution_count": 11,
   "id": "b7bc27db",
   "metadata": {},
   "outputs": [
    {
     "name": "stdout",
     "output_type": "stream",
     "text": [
      "hello world\n"
     ]
    }
   ],
   "source": [
    "print(c.lower())"
   ]
  },
  {
   "cell_type": "code",
   "execution_count": 13,
   "id": "f48586c1",
   "metadata": {},
   "outputs": [
    {
     "ename": "TypeError",
     "evalue": "count() takes at least 1 argument (0 given)",
     "output_type": "error",
     "traceback": [
      "\u001b[1;31m---------------------------------------------------------------------------\u001b[0m",
      "\u001b[1;31mTypeError\u001b[0m                                 Traceback (most recent call last)",
      "Input \u001b[1;32mIn [13]\u001b[0m, in \u001b[0;36m<cell line: 1>\u001b[1;34m()\u001b[0m\n\u001b[1;32m----> 1\u001b[0m \u001b[43mc\u001b[49m\u001b[38;5;241;43m.\u001b[39;49m\u001b[43mcount\u001b[49m\u001b[43m(\u001b[49m\u001b[43m)\u001b[49m\n",
      "\u001b[1;31mTypeError\u001b[0m: count() takes at least 1 argument (0 given)"
     ]
    }
   ],
   "source": [
    "c.count()"
   ]
  },
  {
   "cell_type": "code",
   "execution_count": null,
   "id": "59eb8db4",
   "metadata": {},
   "outputs": [],
   "source": []
  },
  {
   "cell_type": "code",
   "execution_count": 1,
   "id": "9bd9c19f",
   "metadata": {},
   "outputs": [
    {
     "name": "stdout",
     "output_type": "stream",
     "text": [
      "hihi\n"
     ]
    }
   ],
   "source": [
    "print('hihi')"
   ]
  },
  {
   "cell_type": "code",
   "execution_count": 3,
   "id": "57dabb13",
   "metadata": {},
   "outputs": [
    {
     "name": "stdout",
     "output_type": "stream",
     "text": [
      "5\n",
      "5\n"
     ]
    }
   ],
   "source": [
    "class Car(object):\n",
    "    maxSpeed = 300\n",
    "    maxPeople = 5\n",
    "    def start(self):\n",
    "        print('출발')\n",
    "    def stop(self):\n",
    "        print('정지')\n",
    "    def __str__(self):\n",
    "        return 'hello world'\n",
    "    def __init__(self):\n",
    "        print('인스턴스 생성')\n",
    "class Hybrid(Car):\n",
    "    battery = 1000\n",
    "    batteryKM = 300\n",
    "\n",
    "k5 = Car()\n",
    "print(k5.maxPeople)\n",
    "print(Car.maxPeople)    #두개가 같은게 아님\n"
   ]
  },
  {
   "cell_type": "code",
   "execution_count": null,
   "id": "8688780e",
   "metadata": {},
   "outputs": [],
   "source": [
    "###class\n",
    "#1.class name 첫 문자가 대문자\n",
    "#2.class는 대부분 직접 만지지 않는다.\n",
    "#3.class는 붕어빵 틀이라 생각, instance는 붕어빵이라 생각하면됨"
   ]
  },
  {
   "cell_type": "code",
   "execution_count": null,
   "id": "fc784931",
   "metadata": {},
   "outputs": [],
   "source": []
  },
  {
   "cell_type": "code",
   "execution_count": null,
   "id": "0417a772",
   "metadata": {},
   "outputs": [],
   "source": []
  }
 ],
 "metadata": {
  "kernelspec": {
   "display_name": "Python 3.10.5 64-bit",
   "language": "python",
   "name": "python3"
  },
  "language_info": {
   "codemirror_mode": {
    "name": "ipython",
    "version": 3
   },
   "file_extension": ".py",
   "mimetype": "text/x-python",
   "name": "python",
   "nbconvert_exporter": "python",
   "pygments_lexer": "ipython3",
   "version": "3.10.5"
  },
  "vscode": {
   "interpreter": {
    "hash": "66c74a458c0f068e68562ed988e712fe7c9c459e7347d13152e1dad819a1fc3e"
   }
  }
 },
 "nbformat": 4,
 "nbformat_minor": 5
}
